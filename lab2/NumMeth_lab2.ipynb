{
  "nbformat": 4,
  "nbformat_minor": 0,
  "metadata": {
    "colab": {
      "provenance": []
    },
    "kernelspec": {
      "name": "python3",
      "display_name": "Python 3"
    },
    "language_info": {
      "name": "python"
    }
  },
  "cells": [
    {
      "cell_type": "markdown",
      "source": [
        "# 3. Определитель\n",
        "\n",
        "В файле *det.cpp* реализована функция для подсчёта определителя вещественнозначной квадратной матрицы `N x N` с использованием формулы Леви-Чивиты"
      ],
      "metadata": {
        "id": "b27Vtz9xr24O"
      }
    }
  ]
}