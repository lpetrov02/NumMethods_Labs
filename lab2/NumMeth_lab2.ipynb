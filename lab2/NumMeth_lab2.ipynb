{
  "nbformat": 4,
  "nbformat_minor": 0,
  "metadata": {
    "colab": {
      "provenance": []
    },
    "kernelspec": {
      "name": "python3",
      "display_name": "Python 3"
    },
    "language_info": {
      "name": "python"
    }
  },
  "cells": [
    {
      "cell_type": "markdown",
      "source": [
        "# 1 & 2.  \n",
        "В include/linalg.h есть что-то про оператор <  \n",
        "В src/multidim.cpp есть наброски многомерного случая  \n",
        "Но я не успел их нормально сделать."
      ],
      "metadata": {
        "id": "VPuZZKqe0AgI"
      }
    },
    {
      "cell_type": "markdown",
      "source": [
        "# 3. Определитель\n",
        "\n",
        "В файле *det.cpp* реализована функция для подсчёта определителя вещественнозначной квадратной матрицы `N x N` с использованием формулы Леви-Чивиты"
      ],
      "metadata": {
        "id": "b27Vtz9xr24O"
      }
    },
    {
      "cell_type": "code",
      "source": [],
      "metadata": {
        "id": "Ux0j8_fa0AQK"
      },
      "execution_count": null,
      "outputs": []
    }
  ]
}